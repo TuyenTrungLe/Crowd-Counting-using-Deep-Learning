{
 "cells": [
  {
   "cell_type": "code",
   "execution_count": 27,
   "metadata": {},
   "outputs": [],
   "source": [
    "import os\n",
    "import scipy.io\n",
    "\n",
    "import numpy as np\n",
    "from PIL import Image"
   ]
  },
  {
   "cell_type": "code",
   "execution_count": 28,
   "metadata": {},
   "outputs": [],
   "source": [
    "input_directory = \"mall_dataset\"\n",
    "output_directory = \"npy_files\""
   ]
  },
  {
   "cell_type": "code",
   "execution_count": 29,
   "metadata": {},
   "outputs": [],
   "source": [
    "os.makedirs(output_directory, exist_ok=True)"
   ]
  },
  {
   "cell_type": "markdown",
   "metadata": {},
   "source": [
    "### This converter converts all of the frames into one .npy file\n"
   ]
  },
  {
   "cell_type": "code",
   "execution_count": 30,
   "metadata": {},
   "outputs": [],
   "source": [
    "frames_path = input_directory + \"/frames\"\n",
    "\n",
    "frame_files = [f for f in os.listdir(frames_path) if f.endswith('.jpg')]\n",
    "frame_files.sort(key=lambda x: int(x.split('_')[1].split('.')[0]))"
   ]
  },
  {
   "cell_type": "code",
   "execution_count": 31,
   "metadata": {},
   "outputs": [
    {
     "name": "stdout",
     "output_type": "stream",
     "text": [
      "Saved npy_files/frames.npy\n"
     ]
    }
   ],
   "source": [
    "frames = []\n",
    "for frame_file in frame_files:\n",
    "    frame_path = os.path.join(frames_path, frame_file)\n",
    "    frame = Image.open(frame_path)\n",
    "    frames.append(np.array(frame))\n",
    "\n",
    "frames_array = np.array(frames)\n",
    "\n",
    "frames_output_path = output_directory + \"/frames.npy\"\n",
    "np.save(frames_output_path, frames_array)\n",
    "\n",
    "print(f\"Saved {frames_output_path}\")"
   ]
  },
  {
   "cell_type": "markdown",
   "metadata": {},
   "source": [
    "### This converter converts the each .mat file into a corresponding .npy file\n"
   ]
  },
  {
   "cell_type": "code",
   "execution_count": 32,
   "metadata": {},
   "outputs": [
    {
     "name": "stdout",
     "output_type": "stream",
     "text": [
      "Saved npy_files/features.npy\n",
      "Saved npy_files/perspective_roi.npy\n",
      "Saved npy_files/ground_truth.npy\n"
     ]
    }
   ],
   "source": [
    "mat_files = [file for file in os.listdir(input_directory) if file.endswith('.mat')]\n",
    "\n",
    "for mat_file in mat_files:\n",
    "    mat_path = os.path.join(input_directory, mat_file)\n",
    "    mat_data = scipy.io.loadmat(mat_path)\n",
    "    \n",
    "    cleaned_data = {key: value for key, value in mat_data.items() if not key.startswith('__')}\n",
    "    \n",
    "    base_name = os.path.splitext(mat_file)[0]\n",
    "    \n",
    "    npy_path = os.path.join(output_directory, f\"{base_name}.npy\")\n",
    "    np.save(npy_path, cleaned_data)\n",
    "    print(f\"Saved {npy_path}\")"
   ]
  }
 ],
 "metadata": {
  "kernelspec": {
   "display_name": "testenv",
   "language": "python",
   "name": "python3"
  },
  "language_info": {
   "codemirror_mode": {
    "name": "ipython",
    "version": 3
   },
   "file_extension": ".py",
   "mimetype": "text/x-python",
   "name": "python",
   "nbconvert_exporter": "python",
   "pygments_lexer": "ipython3",
   "version": "3.12.2"
  }
 },
 "nbformat": 4,
 "nbformat_minor": 2
}
