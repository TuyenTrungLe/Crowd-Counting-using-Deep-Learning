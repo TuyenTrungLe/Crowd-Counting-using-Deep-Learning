{
 "cells": [
  {
   "cell_type": "markdown",
   "metadata": {},
   "source": [
    "# Imports\n"
   ]
  },
  {
   "cell_type": "code",
   "execution_count": 1,
   "metadata": {},
   "outputs": [],
   "source": [
    "import os\n",
    "import cv2\n",
    "import glob\n",
    "\n",
    "import numpy as np\n",
    "\n",
    "from PIL import Image\n",
    "from scipy.io import loadmat"
   ]
  },
  {
   "cell_type": "markdown",
   "metadata": {
    "id": "DANRjhfL67OM"
   },
   "source": [
    "# Create .npy files\n"
   ]
  },
  {
   "cell_type": "markdown",
   "metadata": {},
   "source": [
    "## Input and output paths\n"
   ]
  },
  {
   "cell_type": "code",
   "execution_count": 2,
   "metadata": {},
   "outputs": [],
   "source": [
    "# Input paths\n",
    "frames_path = \"mall_dataset/frames/\"\n",
    "ground_truth_path = 'mall_dataset/ground_truth.mat'\n",
    "perspective_roi_path = 'mall_dataset/perspective_roi.mat'"
   ]
  },
  {
   "cell_type": "code",
   "execution_count": 3,
   "metadata": {},
   "outputs": [],
   "source": [
    "# Output paths\n",
    "npy_files_path = 'npy_files'\n",
    "os.makedirs(npy_files_path, exist_ok=True)\n",
    "\n",
    "images_path = os.path.join(npy_files_path, 'images.npy')\n",
    "images_gt_path = os.path.join(npy_files_path, 'images_gt.npy')\n",
    "images_density_path = os.path.join(npy_files_path, 'images_density.npy')\n",
    "labels_path = os.path.join(npy_files_path, 'labels.npy')"
   ]
  },
  {
   "cell_type": "markdown",
   "metadata": {},
   "source": [
    "## Create images.npy\n"
   ]
  },
  {
   "cell_type": "code",
   "execution_count": 4,
   "metadata": {
    "colab": {
     "base_uri": "https://localhost:8080/"
    },
    "id": "zGyuJZfFvjV6",
    "outputId": "8d1e3915-75cb-44d0-e70f-e2bab636da59"
   },
   "outputs": [],
   "source": [
    "images = []\n",
    "image_paths = sorted(glob.glob(frames_path + '*.jpg'))\n",
    "for img_path in image_paths:\n",
    "    img = Image.open(img_path)\n",
    "    img = np.array(img)\n",
    "    images.append(img)\n",
    "\n",
    "images = np.array(images)\n",
    "\n",
    "np.save(images_path, images)"
   ]
  },
  {
   "cell_type": "markdown",
   "metadata": {
    "id": "CmVKb3oC7Df4"
   },
   "source": [
    "## Create images_gt.npy from ground_truth.mat file.\n"
   ]
  },
  {
   "cell_type": "code",
   "execution_count": 5,
   "metadata": {
    "colab": {
     "base_uri": "https://localhost:8080/"
    },
    "id": "2dvy4n_BvwBY",
    "outputId": "e2b33c0a-7ea1-4ea0-b02c-69b43c4389d5"
   },
   "outputs": [],
   "source": [
    "ground_truth_data = loadmat(ground_truth_path)\n",
    "\n",
    "frame_annotations = ground_truth_data['frame']\n",
    "\n",
    "images_gt = []\n",
    "for frame_data in frame_annotations[0]:\n",
    "    if 'loc' in frame_data.dtype.names:\n",
    "        frame_gt = frame_data['loc'][0, 0]\n",
    "        images_gt.append(frame_gt)\n",
    "\n",
    "images_gt = np.array(images_gt, dtype=object)\n",
    "\n",
    "np.save(images_gt_path, images_gt)"
   ]
  },
  {
   "cell_type": "markdown",
   "metadata": {
    "id": "Z80pOcBI7W-a"
   },
   "source": [
    "## Create images_density.npy from perspective_roi.mat file.\n"
   ]
  },
  {
   "cell_type": "code",
   "execution_count": 6,
   "metadata": {
    "colab": {
     "base_uri": "https://localhost:8080/"
    },
    "id": "OlWAf7rvv0L4",
    "outputId": "99eda008-94a1-4c14-8c58-74b72b14d58b"
   },
   "outputs": [],
   "source": [
    "perspective_roi_data = loadmat(perspective_roi_path)\n",
    "\n",
    "roi = perspective_roi_data['roi'][0, 0][0]\n",
    "pMapN = perspective_roi_data['pMapN']\n",
    "\n",
    "roi = np.array(roi, dtype=np.float64)\n",
    "if np.max(roi) > 1:\n",
    "    roi /= np.max(roi)\n",
    "\n",
    "pMapN_masked = pMapN * roi\n",
    "pMapN_masked /= np.max(pMapN_masked)"
   ]
  },
  {
   "cell_type": "code",
   "execution_count": 7,
   "metadata": {
    "colab": {
     "base_uri": "https://localhost:8080/"
    },
    "id": "U9NxUCYtwCib",
    "outputId": "6f90d780-3889-4b7f-f2ba-8255ff8d8bfc"
   },
   "outputs": [],
   "source": [
    "images = np.load(images_path)\n",
    "images_gt = np.load(images_gt_path, allow_pickle=True)\n",
    "\n",
    "images_density = []\n",
    "for frame_id, gt_points in enumerate(images_gt):\n",
    "    density_map = np.zeros((images[frame_id].shape[0], images[frame_id].shape[1]), dtype=np.float32)\n",
    "\n",
    "    for pt in gt_points:\n",
    "        x, y = int(pt[0]), int(pt[1])\n",
    "        if 0 <= x < density_map.shape[1] and 0 <= y < density_map.shape[0]:\n",
    "            temp_map = np.zeros_like(density_map, dtype=np.float32)\n",
    "            temp_map[y, x] = 1\n",
    "            density_map += cv2.GaussianBlur(temp_map, (15, 15), sigmaX=4)\n",
    "\n",
    "    images_density.append(density_map)\n",
    "\n",
    "images_density = np.array(images_density)\n",
    "np.save(images_density_path, images_density)"
   ]
  },
  {
   "cell_type": "markdown",
   "metadata": {
    "id": "1hwh0-Ry7hNp"
   },
   "source": [
    "## Create labels.npy from images_gt.npy\n"
   ]
  },
  {
   "cell_type": "code",
   "execution_count": 8,
   "metadata": {
    "colab": {
     "base_uri": "https://localhost:8080/"
    },
    "id": "cEvpfG0nxAC5",
    "outputId": "4e04758b-17cd-4069-87ec-21cb7b03329f"
   },
   "outputs": [],
   "source": [
    "images_gt = np.load(images_gt_path, allow_pickle=True)\n",
    "\n",
    "labels = np.array([len(frame) for frame in images_gt])\n",
    "\n",
    "np.save(labels_path, labels)"
   ]
  }
 ],
 "metadata": {
  "colab": {
   "provenance": []
  },
  "kernelspec": {
   "display_name": "testenv",
   "language": "python",
   "name": "python3"
  },
  "language_info": {
   "codemirror_mode": {
    "name": "ipython",
    "version": 3
   },
   "file_extension": ".py",
   "mimetype": "text/x-python",
   "name": "python",
   "nbconvert_exporter": "python",
   "pygments_lexer": "ipython3",
   "version": "3.12.2"
  }
 },
 "nbformat": 4,
 "nbformat_minor": 0
}
